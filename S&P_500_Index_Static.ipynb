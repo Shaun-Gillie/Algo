{
 "cells": [
  {
   "cell_type": "code",
   "execution_count": 1,
   "metadata": {},
   "outputs": [],
   "source": [
    "import subprocess \n",
    "import sys\n",
    "def install(package) :\n",
    "    subprocess.check_call([sys.executable, \"-m\", \"pip\", \"install\", package])"
   ]
  },
  {
   "cell_type": "markdown",
   "metadata": {},
   "source": [
    "#Equal Weight S&P 500n Index Fund\n",
    "\n",
    "###Introduction and Library Imports\n",
    "\n",
    "The S&P 500 is the most popular stock market index. The largest fund tht is benchmarked to this index is the SPDR S&P 500 ETF Trust with more than $250B in assest under management.\n",
    "\n",
    "This section of the project is set to create a python script that will take a look at your portfolio value and tell you how many shares of each S&P 500 counsients you should purchase to get an equal weight index fund.\n",
    "\n",
    "###Library Imports"
   ]
  },
  {
   "cell_type": "code",
   "execution_count": 4,
   "metadata": {},
   "outputs": [],
   "source": [
    "import numpy as np\n",
    "import math\n",
    "import pandas as pd\n",
    "import requests\n",
    "import xlsxwriter"
   ]
  },
  {
   "cell_type": "markdown",
   "metadata": {},
   "source": [
    "#Importing Stock List\n",
    "\n",
    "This section will import the constituents from the S&P 500\n",
    "\n",
    "*A static version of the S&P of the constituents is used here. To capture the changing of the consitituents i reccoomend pulling fgrom tyhe real-time constitiuents on a routine basis."
   ]
  },
  {
   "cell_type": "code",
   "execution_count": 5,
   "metadata": {},
   "outputs": [],
   "source": [
    "stocks = pd.read_csv('/Users/shaungillie/Documents/GitHub/Algo/S&P_500_Ticket_List.csv')"
   ]
  }
 ],
 "metadata": {
  "kernelspec": {
   "display_name": "Python 3",
   "language": "python",
   "name": "python3"
  },
  "language_info": {
   "codemirror_mode": {
    "name": "ipython",
    "version": 3
   },
   "file_extension": ".py",
   "mimetype": "text/x-python",
   "name": "python",
   "nbconvert_exporter": "python",
   "pygments_lexer": "ipython3",
   "version": "3.9.6"
  },
  "orig_nbformat": 4
 },
 "nbformat": 4,
 "nbformat_minor": 2
}
